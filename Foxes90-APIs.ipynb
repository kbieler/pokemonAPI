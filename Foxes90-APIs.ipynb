{
 "cells": [
  {
   "cell_type": "markdown",
   "id": "98120487",
   "metadata": {},
   "source": [
    "# APIs\n",
    "\n",
    "#### What are they and how do we use them\n",
    "\n",
    "<p> API stands for application programming interface - what an API actually does is provide a way for different servers, devices, and applications to send information back and forth in a commonly understood structure. </p>\n",
    "\n",
    "<p> So using an api, we can send data from an application written in one programming language to an application written in another programming language on a different server, and both applications can understand that data. </p>"
   ]
  },
  {
   "cell_type": "markdown",
   "id": "af83c4fc",
   "metadata": {},
   "source": [
    "<p> Its kind of like the kitchen in a restaurant -> they take the unprepared food items, chop them up, cook them, and lay them out nicely presented on a plate for the customers to consume as they please. </p>\n",
    "\n",
    "<p> APIs use data formats that can be understood by multiple programming languages -> the most common one we will use is called JSON data (JavaScript Object Notation) </p>"
   ]
  },
  {
   "cell_type": "markdown",
   "id": "b147e1ab",
   "metadata": {},
   "source": [
    "### Importing the Requests library"
   ]
  },
  {
   "cell_type": "code",
   "execution_count": null,
   "id": "e1c03ba7",
   "metadata": {},
   "outputs": [],
   "source": [
    "import requests as r # often requests is imported under the alias r\n"
   ]
  },
  {
   "cell_type": "markdown",
   "id": "4c224973",
   "metadata": {},
   "source": [
    "### Making a [GET] request"
   ]
  },
  {
   "cell_type": "code",
   "execution_count": null,
   "id": "0dd06ab5",
   "metadata": {},
   "outputs": [],
   "source": [
    "# Make a get request (receive information from the API)\n",
    "# need to provide url of API endpoint\n",
    "request = r.get(#'api endpoint url')\n",
    "print(request, type(request))"
   ]
  },
  {
   "cell_type": "markdown",
   "id": "5e3386a5",
   "metadata": {},
   "source": [
    "### Checking status code of response object"
   ]
  },
  {
   "cell_type": "code",
   "execution_count": null,
   "id": "87346346",
   "metadata": {},
   "outputs": [],
   "source": [
    "# Check Status Code\n",
    "#200s - okay\n",
    "#300s - redirect\n",
    "#400s - client side error\n",
    "    #404 - Not found\n",
    "#500s - server side error\n",
    "print(request.status_code)"
   ]
  },
  {
   "cell_type": "markdown",
   "id": "ccc23ca5",
   "metadata": {},
   "source": [
    "### Accessing the body/data of the response"
   ]
  },
  {
   "cell_type": "code",
   "execution_count": null,
   "id": "038a5ef5",
   "metadata": {},
   "outputs": [],
   "source": [
    "# .json()\n",
    "#commonly combined with a conditional to check the status_code\n",
    "request.json()\n",
    "#common practice to redefine data to json data\n",
    "request = request.json()\n",
    "    #will save as a dictionary\n",
    "# directly printing a dictionary will print as one big block\n",
    "#however, allowing jupyter notebook's system to display the dictionary (without print func) will format the data \n",
    "#or you can use pprint(), aka pretty print for python formatting ***must import pprint***"
   ]
  },
  {
   "cell_type": "markdown",
   "id": "ca301ee6",
   "metadata": {},
   "source": [
    "### Request Headers... what are those?\n",
    "<p>Headers are essentially configuration/options/metadata for your request. Many APIs require specific headers.</p>\n",
    "<p>For an example of setting custom headers, see the tokenization and OAuth sections below.</p>"
   ]
  },
  {
   "cell_type": "markdown",
   "id": "d0c05800",
   "metadata": {},
   "source": [
    "### Introduction to Authorization\n",
    "###### APIs often require permission to access their data\n",
    "<p>Some APIs require no authorization. These are the ones we've looked at so far</p>\n",
    "<p>Some APIs require an API key. This is essentially a password you must use to access the API endpoints</p>\n",
    "<p>Some APIs use tokens. This is a password that must be passed through the request's headers</p>\n",
    "<p>Some APIs use <a href=\"https://oauth.net/2/\">OAuth 2.0</a>. OAuth is the industry standard for strong API authorization practices.</p>"
   ]
  },
  {
   "cell_type": "code",
   "execution_count": null,
   "id": "74a7c191",
   "metadata": {},
   "outputs": [],
   "source": [
    "# example of a request with no auth\n",
    "# ErgastAPI, PokeAPI\n",
    "noAuth = r.get(#url of endpoint)"
   ]
  },
  {
   "cell_type": "code",
   "execution_count": null,
   "id": "561b1d64",
   "metadata": {},
   "outputs": [],
   "source": [
    "# example of a request using an API key\n",
    "# openweathermapAPI\n",
    "ex_keyAuth = re.get(#url of enpoint (auth key where indicated by api))"
   ]
  },
  {
   "cell_type": "code",
   "execution_count": null,
   "id": "867c1bb1",
   "metadata": {},
   "outputs": [],
   "source": [
    "# many APIs have different auth practices for different endpoints\n",
    "# my custom APIs - open for reading data (GET)\n",
    "\n",
    "# tokenized for deleting or changing data (POST/PUT)\n",
    "# example of working with an API token in the headers"
   ]
  },
  {
   "cell_type": "code",
   "execution_count": null,
   "id": "51c6775b",
   "metadata": {},
   "outputs": [],
   "source": [
    "# "
   ]
  },
  {
   "cell_type": "markdown",
   "id": "da1d6508",
   "metadata": {},
   "source": [
    "### Types of Requests - GET vs. POST vs. PUT vs. DELETE\n",
    "<p>Above when working with the OAuth and tokenized APIs we didnt use r.get()... what was happening?</p>\n",
    "<p>Depending on the purpose of your request - you will be sending a different type of request!</p>\n",
    "<p>[GET] requests are the most common type of request - used to receive data from an endpoint.</p>\n",
    "<p>[POST] requests are for sending data to an endpoint.</p>\n",
    "<p>[PUT] requests are for updating data at an endpoint.</p>\n",
    "<p>[DELETE] requests are for.... surprisingly.... deleting data. Who knew?!</p>"
   ]
  },
  {
   "cell_type": "code",
   "execution_count": null,
   "id": "64141abf",
   "metadata": {},
   "outputs": [],
   "source": []
  },
  {
   "cell_type": "code",
   "execution_count": null,
   "id": "51523459",
   "metadata": {},
   "outputs": [],
   "source": []
  },
  {
   "cell_type": "code",
   "execution_count": null,
   "id": "2ac4f3c7",
   "metadata": {},
   "outputs": [],
   "source": []
  },
  {
   "cell_type": "code",
   "execution_count": null,
   "id": "47d3536e",
   "metadata": {},
   "outputs": [],
   "source": [
    "import requests as r \n",
    "# In-Class Exercise\n",
    "# From this API Endpoint: 'https://pokeapi.co/api/v2/pokemon/entei'\n",
    "# Access the string 'emerald' thats located somewhere within game_indices\n",
    "entei = r.get('https://pokeapi.co/api/v2/pokemon/entei')\n",
    "if entei.status_code == 200:\n",
    "    entei =entei.json()\n",
    "entei['game_indices'][5]['version']['name']"
   ]
  },
  {
   "cell_type": "code",
   "execution_count": null,
   "id": "a34d01cc",
   "metadata": {},
   "outputs": [],
   "source": [
    "# What are the names of all of the Pokemon games that Entei is in?\n",
    "# I want a list of the names of every game Entei is in.\n",
    "\n",
    "# Well, if I can do it for one piece of the data,\n",
    "entei_games = [v['version']['name']for v in entei['game_indices']]\n",
    "print(entei_games)\n",
    "\n"
   ]
  },
  {
   "cell_type": "code",
   "execution_count": 3,
   "id": "7d1f4f19",
   "metadata": {},
   "outputs": [
    {
     "name": "stdout",
     "output_type": "stream",
     "text": [
      "[{'name': 'bulbasaur', 'abilities': ['overgrow', 'chlorophyll'], 'type': ['grass', 'poison'], 'weight': [69]}, {'name': 'ivysaur', 'abilities': ['overgrow', 'chlorophyll'], 'type': ['grass', 'poison'], 'weight': [130]}, {'name': 'venusaur', 'abilities': ['overgrow', 'chlorophyll'], 'type': ['grass', 'poison'], 'weight': [1000]}, {'name': 'charmander', 'abilities': ['blaze', 'solar-power'], 'type': ['fire'], 'weight': [85]}, {'name': 'charmeleon', 'abilities': ['blaze', 'solar-power'], 'type': ['fire'], 'weight': [190]}, {'name': 'charizard', 'abilities': ['blaze', 'solar-power'], 'type': ['fire', 'flying'], 'weight': [905]}, {'name': 'squirtle', 'abilities': ['torrent', 'rain-dish'], 'type': ['water'], 'weight': [90]}, {'name': 'wartortle', 'abilities': ['torrent', 'rain-dish'], 'type': ['water'], 'weight': [225]}, {'name': 'blastoise', 'abilities': ['torrent', 'rain-dish'], 'type': ['water'], 'weight': [855]}, {'name': 'caterpie', 'abilities': ['shield-dust', 'run-away'], 'type': ['bug'], 'weight': [29]}, {'name': 'metapod', 'abilities': ['shed-skin'], 'type': ['bug'], 'weight': [99]}, {'name': 'butterfree', 'abilities': ['compound-eyes', 'tinted-lens'], 'type': ['bug', 'flying'], 'weight': [320]}, {'name': 'weedle', 'abilities': ['shield-dust', 'run-away'], 'type': ['bug', 'poison'], 'weight': [32]}, {'name': 'kakuna', 'abilities': ['shed-skin'], 'type': ['bug', 'poison'], 'weight': [100]}, {'name': 'beedrill', 'abilities': ['swarm', 'sniper'], 'type': ['bug', 'poison'], 'weight': [295]}, {'name': 'pidgey', 'abilities': ['keen-eye', 'tangled-feet', 'big-pecks'], 'type': ['normal', 'flying'], 'weight': [18]}, {'name': 'pidgeotto', 'abilities': ['keen-eye', 'tangled-feet', 'big-pecks'], 'type': ['normal', 'flying'], 'weight': [300]}, {'name': 'pidgeot', 'abilities': ['keen-eye', 'tangled-feet', 'big-pecks'], 'type': ['normal', 'flying'], 'weight': [395]}, {'name': 'rattata', 'abilities': ['run-away', 'guts', 'hustle'], 'type': ['normal'], 'weight': [35]}, {'name': 'raticate', 'abilities': ['run-away', 'guts', 'hustle'], 'type': ['normal'], 'weight': [185]}]\n",
      "{}\n"
     ]
    }
   ],
   "source": [
    "# End goal structure for the basic version of the assignment:\n",
    "import requests as r \n",
    "# Goal is to make 20 pokemon\n",
    "# Each pokemon is a dictionary\n",
    "pokemon_names =['bulbasaur', 'ivysaur', 'venusaur', 'charmander', 'charmeleon', 'charizard', 'squirtle', 'wartortle', 'blastoise', 'caterpie', 'metapod', 'butterfree', 'weedle', 'kakuna', 'beedrill', 'pidgey', 'pidgeotto', 'pidgeot', 'rattata', 'raticate']\n",
    "pokemon = []\n",
    "\n",
    "\n",
    "def make_pokemon(names_list):\n",
    "    for name in names_list:\n",
    "        data = r.get(f'https://pokeapi.co/api/v2/pokemon/{name}')\n",
    "        if data.status_code == 200:\n",
    "            data = data.json()\n",
    "            data_abilities = [v['ability']['name'] for v in data['abilities']]\n",
    "            data_type = [v['type']['name'] for v in data ['types']]\n",
    "            data_weight = [data['weight']]\n",
    "            pokemon.append({'name': name,'abilities': data_abilities,'type': data_type,'weight': data_weight})\n",
    "\n",
    "make_pokemon(pokemon_names)\n",
    "print(pokemon)\n",
    "\n",
    "# after you make all the individual pokemon\n",
    "# put them in a dictionary of lists based on type\n",
    "poison_poke = {}\n",
    "fire_poke = {}\n",
    "water_poke = {}\n",
    "flying_poke = {}\n",
    "bug_poke = {}\n",
    "normal_poke = {}\n",
    " \n",
    "def poke_types(p):\n",
    "    if p['type'] == 'poison':\n",
    "        posion_poke.update(p)\n",
    "    elif p['type'] == 'fire':\n",
    "        fire_poke.update(p)\n",
    "    elif p['type'] == 'water':\n",
    "        water_poke.update(p)\n",
    "    elif p['type'] == 'flying':\n",
    "        flying_poke.update(p)\n",
    "    elif p['type'] == 'bug':\n",
    "        bug_poke.update(p)\n",
    "    elif p['type'] == 'normal':\n",
    "        normal_poke.update(p)\n",
    "        \n",
    "for poke in pokemon:\n",
    "    poke_types(poke)\n",
    "        \n",
    "\n",
    "        \n",
    "        \n"
   ]
  },
  {
   "cell_type": "code",
   "execution_count": null,
   "id": "d7d487f3",
   "metadata": {},
   "outputs": [],
   "source": [
    "# remember that string concatenation is a thing and/or that f-strings work here\n",
    "pokemon_names =['bulbasaur', 'ivysaur', 'venusaur', 'charmander', 'charmeleon', 'charizard', 'squirtle', 'wartortle', 'blastoise', 'caterpie', 'metapod', 'butterfree', 'weedle', 'kakuna', 'beedrill', 'pidgey', 'pidgeotto', 'pidgeot', 'rattata', 'raticate']\n",
    "\n",
    "bulbasaur = r.get('https://pokeapi.co/api/v2/pokemon/bulbasaur/')\n",
    "if bulbasaur.status_code == 200:\n",
    "    bulbasaur =bulbasaur.json()\n",
    "p1_abilities= bulbasaur['abilities'][0]['ability']['name'], bulbasaur['abilities'][1]['ability']['name']\n",
    "p1_type= bulbasaur['types'][0]['type']['name'], bulbasaur['types'][1]['type']['name']\n",
    "p1_weight= bulbasaur['weight']\n",
    "\n",
    "poke1 = {pokemon_names[0]: {'weight': p1_weight, 'type': p1_type, 'abilities': p1_abilities}}\n",
    "print(poke1)\n",
    "\n",
    "\n",
    "\n"
   ]
  },
  {
   "cell_type": "code",
   "execution_count": null,
   "id": "9a29a682",
   "metadata": {},
   "outputs": [],
   "source": [
    "import requests as r\n",
    "# Instead of Making a Pokemon Dictionary, I want to make pokemon objects\n",
    "# I want to store those pokemon objects in a dictionary where the key is the pokemon's name\n",
    "# {\n",
    "# 'grovyle' : <pokemon_object for grovyle @ 0x304180sflk31sj>\n",
    "# }\n",
    "# I want to be able to pass a dictionary made from the API call .json() data into the __init__() of Pokemon class\n",
    "# and have the pokemon's attributes be filled out from there\n",
    "\n",
    "# let me lay out my skeleton code\n",
    "# pokemon object is gonna have the same attributes\n",
    "    # name=str, abilities=[], types=[], weight=int\n",
    "# pokemon object methods\n",
    "    # display that prints our pokemon's info nice and pretty prettily? fancy-lookin.\n",
    "\n",
    "# second class pokedex\n",
    "    # 1 attribute - the dictionary of all the pokemon\n",
    "    \n",
    "    # 3 methods\n",
    "        # 1 create pokemon -> take in a list of pokemon names, and fill up our objects/dictionary\n",
    "        # 2 display function - to show all the pokemon\n",
    "        # 3 searching function to display based on the pokemon type asked for\n",
    "        \n",
    "        \n",
    "        \n",
    "        \n",
    "# pokemon objects\n",
    "\n",
    "\n",
    "\n",
    "\n",
    "\n",
    "# pokedex objects\n",
    "\n",
    "\n",
    "\n",
    "\n"
   ]
  },
  {
   "cell_type": "code",
   "execution_count": null,
   "id": "5950b858",
   "metadata": {},
   "outputs": [],
   "source": [
    "# Driver Code"
   ]
  },
  {
   "cell_type": "code",
   "execution_count": null,
   "id": "115f0039",
   "metadata": {},
   "outputs": [],
   "source": []
  }
 ],
 "metadata": {
  "kernelspec": {
   "display_name": "Python 3 (ipykernel)",
   "language": "python",
   "name": "python3"
  },
  "language_info": {
   "codemirror_mode": {
    "name": "ipython",
    "version": 3
   },
   "file_extension": ".py",
   "mimetype": "text/x-python",
   "name": "python",
   "nbconvert_exporter": "python",
   "pygments_lexer": "ipython3",
   "version": "3.9.7"
  }
 },
 "nbformat": 4,
 "nbformat_minor": 5
}
